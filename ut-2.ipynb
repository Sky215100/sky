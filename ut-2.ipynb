{
 "cells": [
  {
   "cell_type": "code",
   "execution_count": 9,
   "metadata": {},
   "outputs": [
    {
     "name": "stdout",
     "output_type": "stream",
     "text": [
      "Requirement already satisfied: pulp in c:\\users\\user\\anaconda3\\lib\\site-packages (2.3.1)\n",
      "Requirement already satisfied: amply>=0.1.2 in c:\\users\\user\\anaconda3\\lib\\site-packages (from pulp) (0.1.4)\n",
      "Requirement already satisfied: pyparsing in c:\\users\\user\\anaconda3\\lib\\site-packages (from amply>=0.1.2->pulp) (2.4.7)\n",
      "Requirement already satisfied: docutils>=0.3 in c:\\users\\user\\anaconda3\\lib\\site-packages (from amply>=0.1.2->pulp) (0.16)\n",
      "Note: you may need to restart the kernel to use updated packages.\n"
     ]
    }
   ],
   "source": [
    "pip install pulp"
   ]
  },
  {
   "cell_type": "code",
   "execution_count": 12,
   "metadata": {},
   "outputs": [
    {
     "name": "stdout",
     "output_type": "stream",
     "text": [
      "Decision Variable Values: \n",
      "A = 10.0\n",
      "B = 50.0\n",
      "\n",
      "Maximum Profit:\n"
     ]
    },
    {
     "data": {
      "text/plain": [
       "6000000.0"
      ]
     },
     "execution_count": 12,
     "metadata": {},
     "output_type": "execute_result"
    }
   ],
   "source": [
    "#!C:\\Users\\user\\Desktop\\python\n",
    "# coding: ut-2\n",
    "\n",
    "# In[1]:\n",
    "\n",
    "\n",
    "# pip install pulp\n",
    "\n",
    "\n",
    "# In[3]:\n",
    "\n",
    "\n",
    "import pulp\n",
    "A= pulp.LpVariable('A',lowBound = 0)\n",
    "B= pulp.LpVariable('B',lowBound = 0)\n",
    "\n",
    "profit=pulp.LpProblem('Maximum Profit',pulp.LpMaximize)\n",
    "profit+=200000*A+80000*B,'Objective Function'\n",
    "profit+=3000*A+900*B<=75000\n",
    "profit+=-5*A+1*B<=0\n",
    "profit+=A<=15\n",
    "profit+=A>=5\n",
    "\n",
    "profit.solve()\n",
    "\n",
    "print('Decision Variable Values: ')\n",
    "\n",
    "for variable in profit.variables():\n",
    "    print(variable.name,'=',variable.varValue)\n",
    "    \n",
    "print('\\nMaximum Profit:')\n",
    "pulp.value(profit.objective)\n"
   ]
  },
  {
   "cell_type": "code",
   "execution_count": null,
   "metadata": {},
   "outputs": [],
   "source": []
  }
 ],
 "metadata": {
  "kernelspec": {
   "display_name": "Python 3",
   "language": "python",
   "name": "python3"
  },
  "language_info": {
   "codemirror_mode": {
    "name": "ipython",
    "version": 3
   },
   "file_extension": ".py",
   "mimetype": "text/x-python",
   "name": "python",
   "nbconvert_exporter": "python",
   "pygments_lexer": "ipython3",
   "version": "3.8.3"
  }
 },
 "nbformat": 4,
 "nbformat_minor": 4
}
