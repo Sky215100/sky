{
 "cells": [
  {
   "cell_type": "code",
   "execution_count": 1,
   "metadata": {},
   "outputs": [
    {
     "name": "stdout",
     "output_type": "stream",
     "text": [
      "Requirement already satisfied: pulp in c:\\users\\user\\anaconda3\\lib\\site-packages (2.3.1)\n",
      "Requirement already satisfied: amply>=0.1.2 in c:\\users\\user\\anaconda3\\lib\\site-packages (from pulp) (0.1.4)\n",
      "Requirement already satisfied: docutils>=0.3 in c:\\users\\user\\anaconda3\\lib\\site-packages (from amply>=0.1.2->pulp) (0.16)\n",
      "Requirement already satisfied: pyparsing in c:\\users\\user\\anaconda3\\lib\\site-packages (from amply>=0.1.2->pulp) (2.4.7)\n",
      "Note: you may need to restart the kernel to use updated packages.\n"
     ]
    }
   ],
   "source": [
    "pip install pulp"
   ]
  },
  {
   "cell_type": "code",
   "execution_count": 2,
   "metadata": {},
   "outputs": [
    {
     "name": "stdout",
     "output_type": "stream",
     "text": [
      "Decision Variable Values: \n",
      "C3 = 7.5\n",
      "C9 = 15.0\n",
      "D = 0.0\n",
      "E = 27.5\n",
      "\n",
      "Minimum Profit:\n"
     ]
    },
    {
     "name": "stderr",
     "output_type": "stream",
     "text": [
      "C:\\Users\\user\\anaconda3\\lib\\site-packages\\pulp\\pulp.py:1198: UserWarning: Spaces are not permitted in the name. Converted to '_'\n",
      "  warnings.warn(\"Spaces are not permitted in the name. Converted to '_'\")\n"
     ]
    },
    {
     "data": {
      "text/plain": [
       "3.35"
      ]
     },
     "execution_count": 2,
     "metadata": {},
     "output_type": "execute_result"
    }
   ],
   "source": [
    "#!C:\\Users\\user\\Desktop\n",
    "# coding: ut-3\n",
    "\n",
    "# In[1]:\n",
    "\n",
    "\n",
    "#pip install pulp\n",
    "\n",
    "\n",
    "# In[21]:\n",
    "\n",
    "\n",
    "import pulp\n",
    "C3= pulp.LpVariable('C3',lowBound = 0)\n",
    "C9= pulp.LpVariable('C9',lowBound = 0)\n",
    "D= pulp.LpVariable('D',lowBound = 0)\n",
    "E= pulp.LpVariable('E',lowBound = 0)\n",
    "\n",
    "profit=pulp.LpProblem('Minimum Profit',pulp.LpMinimize)\n",
    "profit+=0.12*C3+0.09*C9+0.11*D+0.04*E,'Objective Function'\n",
    "profit+=E>=7.5\n",
    "profit+=C3+C9>=22.5\n",
    "profit+=C9+D<=15\n",
    "profit+=C3+C9+D+E==50\n",
    "\n",
    "profit.solve()\n",
    "\n",
    "print('Decision Variable Values: ')\n",
    "\n",
    "for variable in profit.variables():\n",
    "    print(variable.name,'=',variable.varValue)\n",
    "    \n",
    "print('\\nMinimum Profit:')\n",
    "pulp.value(profit.objective)\n"
   ]
  },
  {
   "cell_type": "code",
   "execution_count": null,
   "metadata": {},
   "outputs": [],
   "source": []
  }
 ],
 "metadata": {
  "kernelspec": {
   "display_name": "Python 3",
   "language": "python",
   "name": "python3"
  },
  "language_info": {
   "codemirror_mode": {
    "name": "ipython",
    "version": 3
   },
   "file_extension": ".py",
   "mimetype": "text/x-python",
   "name": "python",
   "nbconvert_exporter": "python",
   "pygments_lexer": "ipython3",
   "version": "3.8.3"
  }
 },
 "nbformat": 4,
 "nbformat_minor": 4
}
